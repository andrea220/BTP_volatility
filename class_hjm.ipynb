{
 "cells": [
  {
   "cell_type": "code",
   "execution_count": 1,
   "metadata": {},
   "outputs": [],
   "source": [
    "import numpy as np\n",
    "import pandas as pd\n",
    "import matplotlib.pyplot as plt\n",
    "import scipy.integrate as integrate\n",
    "import attr\n",
    "import types\n",
    "##\n",
    "from util import tools\n",
    "plt.rcParams['figure.figsize'] = (16, 4.5)\n",
    "plt.style.use('seaborn-whitegrid')"
   ]
  },
  {
   "cell_type": "code",
   "execution_count": 7,
   "metadata": {},
   "outputs": [],
   "source": [
    "class HJM_Gaussian:\n",
    "\n",
    "    @staticmethod\n",
    "    def calibrate_volatility(factors,data):\n",
    "        diff_r = data.diff()[1:]\n",
    "        sigma = diff_r.cov()\n",
    "        sigma *= 252 # annualized\n",
    "        eigval, eigvec = np.linalg.eig(sigma)\n",
    "        # Make a list of (eigenvalue, eigenvector) tuples\n",
    "        eig_pairs = [(np.abs(eigval[i]), eigvec[:,i]) for i in range(len(eigval))]\n",
    "        eig_pairs.sort(key=lambda x: x[0], reverse=True)\n",
    "        princ_eigvector = [eig_pairs[i][1] for i in range(0,factors)]\n",
    "        princ_eigvalues = [eig_pairs[i][0] for i in range(0,factors)]\n",
    "        W_matrix = np.vstack(princ_eigvector).T \n",
    "        Y = data.dot(W_matrix)\n",
    "        vol_compressed = np.sqrt(princ_eigvalues)*W_matrix \n",
    "        return vol_compressed, eigval, eigvec\n",
    "\n",
    "    def __init__(self,path,nfactors):\n",
    "        self.data = tools.load_BTP_curve(path)       \n",
    "        self.tenors = np.array(self.data.columns.values)\n",
    "        self.vols, self._eigval, self._eigvec = HJM_Gaussian.calibrate_volatility(nfactors,self.data)\n",
    "        self.nfactors = nfactors\n",
    "        self._vol_functions = self._interp_volatility()[2]\n",
    "        \n",
    "    def PCA_results(self):\n",
    "        tot = sum(self._eigval) # la somma degli autovettori è la varianza totale\n",
    "        var_exp = [(i / tot)*100 for i in sorted(self._eigval, reverse=True)]\n",
    "        cum_var_explained = np.cumsum(var_exp)\n",
    "        print(\"Variance% explained by the first \" +str(self.nfactors) +\" eigenvectors:\")\n",
    "        print(str(np.round(cum_var_explained[self.nfactors],3)) + \"%\")\n",
    "        [plt.bar(i +1, var_exp[i], alpha = 0.5, label = (\"Component \" + str(i +1))) for i in range(0,5)]\n",
    "        [plt.step(i+1, cum_var_explained[i]) for i in range(0,5)]\n",
    "        plt.title(\"Explained variance by components\")\n",
    "        plt.legend()\n",
    "        plt.show()\n",
    "        \n",
    "    def _interp_volatility(self):\n",
    "        \"\"\"\n",
    "        Parameters\n",
    "        -------\n",
    "        vols: volatility matrix to be interpolated (nObs x nFactors)\n",
    "        tenors: array of tenors used for fitting\n",
    "        Returns\n",
    "        -------\n",
    "        x: Volatility fitted polynomials\n",
    "        save_pmts: poly weigths\n",
    "        \"\"\"\n",
    "        x = np.zeros((self.vols.shape[0], self.vols.shape[1]))\n",
    "        degree = 2\n",
    "        save_pmts = []\n",
    "        for i in range(0, self.vols.shape[1]):\n",
    "            vol = np.array(self.vols[:,i].flatten())\n",
    "            fit_vol = np.polyfit(x = self.tenors, y = vol, deg = degree)\n",
    "            x[:,i] = np.polyval(fit_vol, self.tenors)\n",
    "            degree = 4\n",
    "            save_pmts.append(fit_vol)\n",
    "        vol_functions = [np.poly1d(coeff) for coeff in save_pmts]\n",
    "        return x, save_pmts, vol_functions\n",
    "    \n",
    "    def plotVolatility(self):\n",
    "        fitted_vol, rg = self._interp_volatility()\n",
    "        tenors = self.tenors\n",
    "        plt.subplot(1, 3, 1), plt.plot(tenors, fitted_vol[:,0]), plt.plot(tenors, self.vols[:, 0])\n",
    "        plt.legend([\"Fitted Vol\", \"PC1 Vol\"])\n",
    "        plt.subplot(1, 3, 2), plt.plot(tenors, fitted_vol[:,1]), plt.plot(tenors, self.vols[:, 1])\n",
    "        plt.legend([\"Fitted Vol\", \"PC2 Vol\"])\n",
    "        plt.subplot(1, 3, 3), plt.plot(tenors, fitted_vol[:,2]), plt.plot(tenors, self.vols[:, 2])\n",
    "        plt.legend([\"Fitted Vol\", \"PC3 Vol\"])\n",
    "        plt.show()\n",
    "        \n",
    "    def _get_HJMdrift(self, T):\n",
    "        mean = 0\n",
    "        for sigma in self.vol_functions:\n",
    "            comp_mean = integrate.quad(sigma, 0, T)[0] * sigma(T)\n",
    "            mean += comp_mean\n",
    "        return mean\n",
    "    \n",
    "    def monte_carlo_path(self):\n",
    "        spot_BTPcurve = data[-1::].values.flatten()\n",
    "        time_grid = np.linspace(0,5,500)\n",
    "        np.random.seed(12)"
   ]
  },
  {
   "cell_type": "code",
   "execution_count": 6,
   "metadata": {},
   "outputs": [],
   "source": [
    "path = './util/datastore/yield_italy_daily_2010_2020.xlsx'\n",
    "factors = 3\n",
    "hjm_class = HJM_Gaussian(path, factors)"
   ]
  },
  {
   "cell_type": "code",
   "execution_count": null,
   "metadata": {},
   "outputs": [],
   "source": []
  },
  {
   "cell_type": "code",
   "execution_count": null,
   "metadata": {},
   "outputs": [],
   "source": []
  },
  {
   "cell_type": "code",
   "execution_count": null,
   "metadata": {},
   "outputs": [],
   "source": []
  },
  {
   "cell_type": "code",
   "execution_count": null,
   "metadata": {},
   "outputs": [],
   "source": []
  },
  {
   "cell_type": "code",
   "execution_count": null,
   "metadata": {},
   "outputs": [],
   "source": []
  },
  {
   "cell_type": "code",
   "execution_count": null,
   "metadata": {},
   "outputs": [],
   "source": []
  },
  {
   "cell_type": "code",
   "execution_count": null,
   "metadata": {},
   "outputs": [],
   "source": []
  },
  {
   "cell_type": "code",
   "execution_count": null,
   "metadata": {},
   "outputs": [],
   "source": []
  },
  {
   "cell_type": "code",
   "execution_count": null,
   "metadata": {},
   "outputs": [],
   "source": []
  }
 ],
 "metadata": {
  "kernelspec": {
   "display_name": "Python 3",
   "language": "python",
   "name": "python3"
  },
  "language_info": {
   "codemirror_mode": {
    "name": "ipython",
    "version": 3
   },
   "file_extension": ".py",
   "mimetype": "text/x-python",
   "name": "python",
   "nbconvert_exporter": "python",
   "pygments_lexer": "ipython3",
   "version": "3.7.3"
  }
 },
 "nbformat": 4,
 "nbformat_minor": 2
}
